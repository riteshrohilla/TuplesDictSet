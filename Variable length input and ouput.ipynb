{
 "cells": [
  {
   "cell_type": "code",
   "execution_count": 1,
   "id": "daf900aa",
   "metadata": {},
   "outputs": [],
   "source": [
    "def sum(a, b, c =0, d=0, e=0):\n",
    "    return a + b + c + d + e"
   ]
  },
  {
   "cell_type": "code",
   "execution_count": 2,
   "id": "d3aa8d44",
   "metadata": {},
   "outputs": [
    {
     "data": {
      "text/plain": [
       "15"
      ]
     },
     "execution_count": 2,
     "metadata": {},
     "output_type": "execute_result"
    }
   ],
   "source": [
    "sum(1,2,3,4,5)"
   ]
  },
  {
   "cell_type": "code",
   "execution_count": 9,
   "id": "2d8792d8",
   "metadata": {},
   "outputs": [],
   "source": [
    "def sum2(a, b, *more):\n",
    "    print(a)\n",
    "    print(b)\n",
    "    print(type(more))\n",
    "    ans = a + b\n",
    "    for i in more:\n",
    "        ans = ans + i\n",
    "    return ans"
   ]
  },
  {
   "cell_type": "code",
   "execution_count": 10,
   "id": "6fad9762",
   "metadata": {},
   "outputs": [
    {
     "name": "stdout",
     "output_type": "stream",
     "text": [
      "2\n",
      "3\n",
      "<class 'tuple'>\n"
     ]
    },
    {
     "data": {
      "text/plain": [
       "14"
      ]
     },
     "execution_count": 10,
     "metadata": {},
     "output_type": "execute_result"
    }
   ],
   "source": [
    "sum2(2,3,4,5)"
   ]
  },
  {
   "cell_type": "code",
   "execution_count": 17,
   "id": "1a3ff41c",
   "metadata": {},
   "outputs": [],
   "source": [
    "def sum_diff(a, b):\n",
    "    return a + b, a - b, a * b"
   ]
  },
  {
   "cell_type": "code",
   "execution_count": 18,
   "id": "062b8095",
   "metadata": {},
   "outputs": [],
   "source": [
    "c = sum_diff(4, 1)"
   ]
  },
  {
   "cell_type": "code",
   "execution_count": 19,
   "id": "357a5be0",
   "metadata": {},
   "outputs": [
    {
     "data": {
      "text/plain": [
       "(5, 3, 4)"
      ]
     },
     "execution_count": 19,
     "metadata": {},
     "output_type": "execute_result"
    }
   ],
   "source": [
    "c"
   ]
  },
  {
   "cell_type": "code",
   "execution_count": 21,
   "id": "45654eac",
   "metadata": {},
   "outputs": [
    {
     "name": "stdout",
     "output_type": "stream",
     "text": [
      "(5, 3, 4)\n"
     ]
    }
   ],
   "source": [
    "d = sum_diff(4, 1)\n",
    "print(d)"
   ]
  },
  {
   "cell_type": "code",
   "execution_count": null,
   "id": "dcf53a2b",
   "metadata": {},
   "outputs": [],
   "source": []
  }
 ],
 "metadata": {
  "kernelspec": {
   "display_name": "Python 3 (ipykernel)",
   "language": "python",
   "name": "python3"
  },
  "language_info": {
   "codemirror_mode": {
    "name": "ipython",
    "version": 3
   },
   "file_extension": ".py",
   "mimetype": "text/x-python",
   "name": "python",
   "nbconvert_exporter": "python",
   "pygments_lexer": "ipython3",
   "version": "3.9.12"
  }
 },
 "nbformat": 4,
 "nbformat_minor": 5
}
